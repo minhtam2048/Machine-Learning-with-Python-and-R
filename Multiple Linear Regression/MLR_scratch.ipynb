{
 "cells": [
  {
   "cell_type": "code",
   "execution_count": 1,
   "metadata": {},
   "outputs": [],
   "source": [
    "import numpy as np\n",
    "import matplotlib.pyplot as plt\n",
    "import pandas as pd"
   ]
  },
  {
   "cell_type": "code",
   "execution_count": 2,
   "metadata": {},
   "outputs": [
    {
     "name": "stdout",
     "output_type": "stream",
     "text": [
      "[192261.83 191792.06 191050.39 182901.99 166187.94 156991.12 156122.51\n",
      " 155752.6  152211.77 149759.96 146121.95 144259.4  141585.52 134307.35\n",
      " 132602.65 129917.04 126992.93 125370.37 124266.9  122776.86 118474.03\n",
      " 111313.02 110352.25 108733.99 108552.04 107404.34 105733.54 105008.31\n",
      " 103282.38 101004.64  99937.59  97483.56  97427.84  96778.92  96712.8\n",
      "  96479.51  90708.19  89949.14  81229.06  81005.76  78239.91  77798.83\n",
      "  71498.49  69758.98  65200.33  64926.08  49490.75  42559.73  35673.41\n",
      "  14681.4 ]\n"
     ]
    }
   ],
   "source": [
    "dataset = pd.read_csv('50_Startups.csv')\n",
    "X = dataset.iloc[:,:-1].values\n",
    "y = dataset.iloc[:,4].values\n",
    "print(y)"
   ]
  },
  {
   "cell_type": "code",
   "execution_count": 3,
   "metadata": {},
   "outputs": [
    {
     "name": "stdout",
     "output_type": "stream",
     "text": [
      "[[     0      0      1 165349 136897 471784]\n",
      " [     1      0      0 162597 151377 443898]\n",
      " [     0      1      0 153441 101145 407934]\n",
      " [     0      0      1 144372 118671 383199]\n",
      " [     0      1      0 142107  91391 366168]\n",
      " [     0      0      1 131876  99814 362861]\n",
      " [     1      0      0 134615 147198 127716]\n",
      " [     0      1      0 130298 145530 323876]\n",
      " [     0      0      1 120542 148718 311613]\n",
      " [     1      0      0 123334 108679 304981]\n",
      " [     0      1      0 101913 110594 229160]\n",
      " [     1      0      0 100671  91790 249744]\n",
      " [     0      1      0  93863 127320 249839]\n",
      " [     1      0      0  91992 135495 252664]\n",
      " [     0      1      0 119943 156547 256512]\n",
      " [     0      0      1 114523 122616 261776]\n",
      " [     1      0      0  78013 121597 264346]\n",
      " [     0      0      1  94657 145077 282574]\n",
      " [     0      1      0  91749 114175 294919]\n",
      " [     0      0      1  86419 153514      0]\n",
      " [     1      0      0  76253 113867 298664]\n",
      " [     0      0      1  78389 153773 299737]\n",
      " [     0      1      0  73994 122782 303319]\n",
      " [     0      1      0  67532 105751 304768]\n",
      " [     0      0      1  77044  99281 140574]\n",
      " [     1      0      0  64664 139553 137962]\n",
      " [     0      1      0  75328 144135 134050]\n",
      " [     0      0      1  72107 127864 353183]\n",
      " [     0      1      0  66051 182645 118148]\n",
      " [     0      0      1  65605 153032 107138]\n",
      " [     0      1      0  61994 115641  91131]\n",
      " [     0      0      1  61136 152701  88218]\n",
      " [     1      0      0  63408 129219  46085]\n",
      " [     0      1      0  55493 103057 214634]\n",
      " [     1      0      0  46426 157693 210797]\n",
      " [     0      0      1  46014  85047 205517]\n",
      " [     0      1      0  28663 127056 201126]\n",
      " [     1      0      0  44069  51283 197029]\n",
      " [     0      0      1  20229  65947 185265]\n",
      " [     1      0      0  38558  82982 174999]\n",
      " [     1      0      0  28754 118546 172795]\n",
      " [     0      1      0  27892  84710 164470]\n",
      " [     1      0      0  23640  96189 148001]\n",
      " [     0      0      1  15505 127382  35534]\n",
      " [     1      0      0  22177 154806  28334]\n",
      " [     0      0      1   1000 124153   1903]\n",
      " [     0      1      0   1315 115816 297114]\n",
      " [     1      0      0      0 135426      0]\n",
      " [     0      0      1    542  51743      0]\n",
      " [     1      0      0      0 116983  45173]]\n"
     ]
    }
   ],
   "source": [
    "# Encoding categorical data\n",
    "# Encoding the Independent Variable\n",
    "from sklearn.preprocessing import LabelEncoder, OneHotEncoder\n",
    "from sklearn.compose import ColumnTransformer\n",
    "labelencoder_X = LabelEncoder()\n",
    "X[:, 3] = labelencoder_X.fit_transform(X[:, 3])\n",
    "columntransformer = ColumnTransformer([('one_hot_encoder', OneHotEncoder(categories='auto'), [3])], remainder = 'passthrough')\n",
    "X = np.array(columntransformer.fit_transform(X), dtype=np.integer)\n",
    "print(X)"
   ]
  },
  {
   "cell_type": "code",
   "execution_count": 4,
   "metadata": {},
   "outputs": [
    {
     "name": "stdout",
     "output_type": "stream",
     "text": [
      "[[     0      1 165349 136897 471784]\n",
      " [     0      0 162597 151377 443898]\n",
      " [     1      0 153441 101145 407934]\n",
      " [     0      1 144372 118671 383199]\n",
      " [     1      0 142107  91391 366168]\n",
      " [     0      1 131876  99814 362861]\n",
      " [     0      0 134615 147198 127716]\n",
      " [     1      0 130298 145530 323876]\n",
      " [     0      1 120542 148718 311613]\n",
      " [     0      0 123334 108679 304981]\n",
      " [     1      0 101913 110594 229160]\n",
      " [     0      0 100671  91790 249744]\n",
      " [     1      0  93863 127320 249839]\n",
      " [     0      0  91992 135495 252664]\n",
      " [     1      0 119943 156547 256512]\n",
      " [     0      1 114523 122616 261776]\n",
      " [     0      0  78013 121597 264346]\n",
      " [     0      1  94657 145077 282574]\n",
      " [     1      0  91749 114175 294919]\n",
      " [     0      1  86419 153514      0]\n",
      " [     0      0  76253 113867 298664]\n",
      " [     0      1  78389 153773 299737]\n",
      " [     1      0  73994 122782 303319]\n",
      " [     1      0  67532 105751 304768]\n",
      " [     0      1  77044  99281 140574]\n",
      " [     0      0  64664 139553 137962]\n",
      " [     1      0  75328 144135 134050]\n",
      " [     0      1  72107 127864 353183]\n",
      " [     1      0  66051 182645 118148]\n",
      " [     0      1  65605 153032 107138]\n",
      " [     1      0  61994 115641  91131]\n",
      " [     0      1  61136 152701  88218]\n",
      " [     0      0  63408 129219  46085]\n",
      " [     1      0  55493 103057 214634]\n",
      " [     0      0  46426 157693 210797]\n",
      " [     0      1  46014  85047 205517]\n",
      " [     1      0  28663 127056 201126]\n",
      " [     0      0  44069  51283 197029]\n",
      " [     0      1  20229  65947 185265]\n",
      " [     0      0  38558  82982 174999]\n",
      " [     0      0  28754 118546 172795]\n",
      " [     1      0  27892  84710 164470]\n",
      " [     0      0  23640  96189 148001]\n",
      " [     0      1  15505 127382  35534]\n",
      " [     0      0  22177 154806  28334]\n",
      " [     0      1   1000 124153   1903]\n",
      " [     1      0   1315 115816 297114]\n",
      " [     0      0      0 135426      0]\n",
      " [     0      1    542  51743      0]\n",
      " [     0      0      0 116983  45173]]\n",
      "5\n"
     ]
    }
   ],
   "source": [
    "# Avoiding dummy variable trap\n",
    "X = X[:, 1:]\n",
    "print(X)\n",
    "print(len(np.array(X[0])))"
   ]
  },
  {
   "cell_type": "code",
   "execution_count": 5,
   "metadata": {},
   "outputs": [
    {
     "name": "stdout",
     "output_type": "stream",
     "text": [
      "[[-6.85994341e-01  1.39326109e+00  2.01641858e+00  5.60742020e-01\n",
      "   2.15394719e+00]\n",
      " [-6.85994341e-01 -7.17740563e-01  1.95585640e+00  1.08280387e+00\n",
      "   1.92360082e+00]\n",
      " [ 1.45773797e+00 -7.17740563e-01  1.75436392e+00 -7.28260419e-01\n",
      "   1.62652786e+00]\n",
      " [-6.85994341e-01  1.39326109e+00  1.55478602e+00 -9.63780980e-02\n",
      "   1.42220965e+00]\n",
      " [ 1.45773797e+00 -7.17740563e-01  1.50494106e+00 -1.07993109e+00\n",
      "   1.28152870e+00]\n",
      " [-6.85994341e-01  1.39326109e+00  1.27979148e+00 -7.76248286e-01\n",
      "   1.25421193e+00]\n",
      " [-6.85994341e-01 -7.17740563e-01  1.34006757e+00  9.32134225e-01\n",
      "  -6.88153288e-01]\n",
      " [ 1.45773797e+00 -7.17740563e-01  1.24506506e+00  8.71996161e-01\n",
      "   9.32184639e-01]\n",
      " [-6.85994341e-01  1.39326109e+00  1.03036862e+00  9.86936297e-01\n",
      "   8.30888737e-01]\n",
      " [-6.85994341e-01 -7.17740563e-01  1.09181106e+00 -4.56629619e-01\n",
      "   7.76106513e-01]\n",
      " [ 1.45773797e+00 -7.17740563e-01  6.20407572e-01 -3.87586218e-01\n",
      "   1.49803281e-01]\n",
      " [-6.85994341e-01 -7.17740563e-01  5.93075368e-01 -1.06554554e+00\n",
      "   3.19833032e-01]\n",
      " [ 1.45773797e+00 -7.17740563e-01  4.43254400e-01  2.15452907e-01\n",
      "   3.20617759e-01]\n",
      " [-6.85994341e-01 -7.17740563e-01  4.02080042e-01  5.10194318e-01\n",
      "   3.43953070e-01]\n",
      " [ 1.45773797e+00 -7.17740563e-01  1.01718666e+00  1.26920303e+00\n",
      "   3.75738655e-01]\n",
      " [-6.85994341e-01  1.39326109e+00  8.97910863e-01  4.58549133e-02\n",
      "   4.19220807e-01]\n",
      " [-6.85994341e-01 -7.17740563e-01  9.44497085e-02  9.11589216e-03\n",
      "   4.40449745e-01]\n",
      " [-6.85994341e-01  1.39326109e+00  4.60727645e-01  8.55663701e-01\n",
      "   5.91018259e-01]\n",
      " [ 1.45773797e+00 -7.17740563e-01  3.96732437e-01 -2.58476861e-01\n",
      "   6.92991504e-01]\n",
      " [-6.85994341e-01  1.39326109e+00  2.79437231e-01  1.15985126e+00\n",
      "  -1.74312412e+00]\n",
      " [-6.85994341e-01 -7.17740563e-01  5.57180834e-02 -2.69581491e-01\n",
      "   7.23926279e-01]\n",
      " [-6.85994341e-01  1.39326109e+00  1.02724192e-01  1.16918924e+00\n",
      "   7.32789567e-01]\n",
      " [ 1.45773797e+00 -7.17740563e-01  6.00516241e-03  5.18398765e-02\n",
      "   7.62377916e-01]\n",
      " [ 1.45773797e+00 -7.17740563e-01 -1.36201520e-01 -5.62195717e-01\n",
      "   7.74347072e-01]\n",
      " [-6.85994341e-01  1.39326109e+00  7.31253081e-02 -7.95465066e-01\n",
      "  -5.81942516e-01]\n",
      " [-6.85994341e-01 -7.17740563e-01 -1.99316464e-01  6.56501431e-01\n",
      "  -6.03518386e-01]\n",
      " [ 1.45773797e+00 -7.17740563e-01  3.53619737e-02  8.21700837e-01\n",
      "  -6.35832629e-01]\n",
      " [-6.85994341e-01  1.39326109e+00 -3.55213015e-02  2.35066280e-01\n",
      "   1.17426887e+00]\n",
      " [ 1.45773797e+00 -7.17740563e-01 -1.68793302e-01  2.21014019e+00\n",
      "  -7.67187716e-01]\n",
      " [-6.85994341e-01  1.39326109e+00 -1.78608248e-01  1.14247323e+00\n",
      "  -8.58133477e-01]\n",
      " [ 1.45773797e+00 -7.17740563e-01 -2.58074099e-01 -2.05621704e-01\n",
      "  -9.90355893e-01]\n",
      " [-6.85994341e-01  1.39326109e+00 -2.76955767e-01  1.13053936e+00\n",
      "  -1.01441811e+00]\n",
      " [-6.85994341e-01 -7.17740563e-01 -2.26956760e-01  2.83919444e-01\n",
      "  -1.36244879e+00]\n",
      " [ 1.45773797e+00 -7.17740563e-01 -4.01139039e-01 -6.59325180e-01\n",
      "   2.98143500e-02]\n",
      " [-6.85994341e-01 -7.17740563e-01 -6.00672928e-01  1.31052090e+00\n",
      "  -1.88037177e-03]\n",
      " [-6.85994341e-01  1.39326109e+00 -6.09739650e-01 -1.30865763e+00\n",
      "  -4.54946879e-02]\n",
      " [ 1.45773797e+00 -7.17740563e-01 -9.91576256e-01  2.05934652e-01\n",
      "  -8.17656088e-02]\n",
      " [-6.85994341e-01 -7.17740563e-01 -6.52542497e-01 -2.52598473e+00\n",
      "  -1.15608005e-01]\n",
      " [-6.85994341e-01  1.39326109e+00 -1.17717996e+00 -1.99728894e+00\n",
      "  -2.12782023e-01]\n",
      " [-6.85994341e-01 -7.17740563e-01 -7.73820898e-01 -1.38310913e+00\n",
      "  -2.97582131e-01]\n",
      " [-6.85994341e-01 -7.17740563e-01 -9.89573655e-01 -1.00884847e-01\n",
      "  -3.15787804e-01]\n",
      " [ 1.45773797e+00 -7.17740563e-01 -1.00854335e+00 -1.32080783e+00\n",
      "  -3.84554694e-01]\n",
      " [-6.85994341e-01 -7.17740563e-01 -1.10211543e+00 -9.06944019e-01\n",
      "  -5.20593363e-01]\n",
      " [-6.85994341e-01  1.39326109e+00 -1.28113917e+00  2.17688255e-01\n",
      "  -1.44960308e+00]\n",
      " [-6.85994341e-01 -7.17740563e-01 -1.13431110e+00  1.20643302e+00\n",
      "  -1.50907715e+00]\n",
      " [-6.85994341e-01  1.39326109e+00 -1.60034497e+00  1.01269904e-01\n",
      "  -1.72740480e+00]\n",
      " [ 1.45773797e+00 -7.17740563e-01 -1.59341289e+00 -1.99312254e-01\n",
      "   7.11122834e-01]\n",
      " [-6.85994341e-01 -7.17740563e-01 -1.62235158e+00  5.07706593e-01\n",
      "  -1.74312412e+00]\n",
      " [-6.85994341e-01  1.39326109e+00 -1.61042400e+00 -2.50939989e+00\n",
      "  -1.74312412e+00]\n",
      " [-6.85994341e-01 -7.17740563e-01 -1.62235158e+00 -1.57237242e-01\n",
      "  -1.36998217e+00]]\n"
     ]
    }
   ],
   "source": [
    "from sklearn.preprocessing import StandardScaler\n",
    "sc = StandardScaler()\n",
    "X = sc.fit_transform(X)\n",
    "print(X)"
   ]
  },
  {
   "cell_type": "code",
   "execution_count": 6,
   "metadata": {},
   "outputs": [],
   "source": [
    "# Hyperparameters\n",
    "learning_rate = 0.0095\n",
    "initial_b = 0   #initial_bias\n",
    "initial_m = 0   # initial_weight\n",
    "num_iterations = 2000"
   ]
  },
  {
   "cell_type": "code",
   "execution_count": 7,
   "metadata": {},
   "outputs": [],
   "source": [
    "def compute_cost(X, y, m):\n",
    "    N = len(y)\n",
    "    total_cost = np.sum((np.dot(X, m) - y) ** 2)/(2 * N) \n",
    "    return total_cost"
   ]
  },
  {
   "cell_type": "code",
   "execution_count": 8,
   "metadata": {},
   "outputs": [],
   "source": [
    "def gradient_descent(X, y, m, learning_rate, num_iterations):\n",
    "    cost_graph = [0] * num_iterations\n",
    "    N = len(y)\n",
    "    \n",
    "    for i in range(num_iterations):\n",
    "        # Hypothesis values\n",
    "        #h = X.dot(m)\n",
    "        h = np.dot(X, m)\n",
    "        # Difference b/w Hypothesis and Actual Y\n",
    "        loss = h - y\n",
    "        # Gradient Calculation\n",
    "        gradient = X.T.dot(loss) / N\n",
    "        m -= learning_rate * gradient\n",
    "        cost = compute_cost(X, y, m)\n",
    "        cost_graph[i] = cost\n",
    "        \n",
    "    return m, cost_graph"
   ]
  },
  {
   "cell_type": "code",
   "execution_count": 9,
   "metadata": {},
   "outputs": [],
   "source": [
    "# Splitting into Training and Test sets\n",
    "from sklearn.model_selection import train_test_split\n",
    "X_train, X_test, y_train, y_test = train_test_split(X, y, test_size = 0.2, random_state = 0)"
   ]
  },
  {
   "cell_type": "code",
   "execution_count": 14,
   "metadata": {},
   "outputs": [
    {
     "name": "stdout",
     "output_type": "stream",
     "text": [
      "[0. 0. 0. 0. 0.]\n",
      "2000\n",
      "[-21820.81709328  -4266.56482664  26679.2934762   13985.65938561\n",
      "   5246.3426303 ]\n"
     ]
    }
   ],
   "source": [
    "m = np.zeros(X_train.shape[1])\n",
    "print(m)\n",
    "print(num_iterations)\n",
    "new_m, cost_graph = gradient_descent(X_train, y_train, m, learning_rate, num_iterations)\n",
    "print(new_m)\n",
    "#print(cost_graph)"
   ]
  },
  {
   "cell_type": "code",
   "execution_count": 11,
   "metadata": {
    "scrolled": true
   },
   "outputs": [
    {
     "data": {
      "image/png": "[encoded data removed]",
      "text/plain": [
       "<Figure size 432x288 with 1 Axes>"
      ]
     },
     "metadata": {
      "needs_background": "light"
     },
     "output_type": "display_data"
    }
   ],
   "source": [
    "plt.plot(cost_graph)\n",
    "plt.show()"
   ]
  },
  {
   "cell_type": "code",
   "execution_count": 16,
   "metadata": {},
   "outputs": [
    {
     "ename": "ValueError",
     "evalue": "x and y must be the same size",
     "output_type": "error",
     "traceback": [
      "\u001b[1;31m---------------------------------------------------------------------------\u001b[0m",
      "\u001b[1;31mValueError\u001b[0m                                Traceback (most recent call last)",
      "\u001b[1;32m<ipython-input-16-42d98ee4406a>\u001b[0m in \u001b[0;36m<module>\u001b[1;34m\u001b[0m\n\u001b[0;32m      1\u001b[0m \u001b[0my_pred\u001b[0m \u001b[1;33m=\u001b[0m \u001b[0mm\u001b[0m \u001b[1;33m*\u001b[0m \u001b[0mX_test\u001b[0m\u001b[1;33m\u001b[0m\u001b[1;33m\u001b[0m\u001b[0m\n\u001b[1;32m----> 2\u001b[1;33m \u001b[0mplt\u001b[0m\u001b[1;33m.\u001b[0m\u001b[0mscatter\u001b[0m\u001b[1;33m(\u001b[0m\u001b[0mX_test\u001b[0m\u001b[1;33m,\u001b[0m \u001b[0my_test\u001b[0m\u001b[1;33m)\u001b[0m\u001b[1;33m\u001b[0m\u001b[1;33m\u001b[0m\u001b[0m\n\u001b[0m\u001b[0;32m      3\u001b[0m \u001b[0mplt\u001b[0m\u001b[1;33m.\u001b[0m\u001b[0mshow\u001b[0m\u001b[1;33m(\u001b[0m\u001b[1;33m)\u001b[0m\u001b[1;33m\u001b[0m\u001b[1;33m\u001b[0m\u001b[0m\n",
      "\u001b[1;32m~\\Anaconda3\\lib\\site-packages\\matplotlib\\pyplot.py\u001b[0m in \u001b[0;36mscatter\u001b[1;34m(x, y, s, c, marker, cmap, norm, vmin, vmax, alpha, linewidths, verts, edgecolors, plotnonfinite, data, **kwargs)\u001b[0m\n\u001b[0;32m   2845\u001b[0m         \u001b[0mverts\u001b[0m\u001b[1;33m=\u001b[0m\u001b[0mverts\u001b[0m\u001b[1;33m,\u001b[0m \u001b[0medgecolors\u001b[0m\u001b[1;33m=\u001b[0m\u001b[0medgecolors\u001b[0m\u001b[1;33m,\u001b[0m\u001b[1;33m\u001b[0m\u001b[1;33m\u001b[0m\u001b[0m\n\u001b[0;32m   2846\u001b[0m         plotnonfinite=plotnonfinite, **({\"data\": data} if data is not\n\u001b[1;32m-> 2847\u001b[1;33m         None else {}), **kwargs)\n\u001b[0m\u001b[0;32m   2848\u001b[0m     \u001b[0msci\u001b[0m\u001b[1;33m(\u001b[0m\u001b[0m__ret\u001b[0m\u001b[1;33m)\u001b[0m\u001b[1;33m\u001b[0m\u001b[1;33m\u001b[0m\u001b[0m\n\u001b[0;32m   2849\u001b[0m     \u001b[1;32mreturn\u001b[0m \u001b[0m__ret\u001b[0m\u001b[1;33m\u001b[0m\u001b[1;33m\u001b[0m\u001b[0m\n",
      "\u001b[1;32m~\\Anaconda3\\lib\\site-packages\\matplotlib\\__init__.py\u001b[0m in \u001b[0;36minner\u001b[1;34m(ax, data, *args, **kwargs)\u001b[0m\n\u001b[0;32m   1599\u001b[0m     \u001b[1;32mdef\u001b[0m \u001b[0minner\u001b[0m\u001b[1;33m(\u001b[0m\u001b[0max\u001b[0m\u001b[1;33m,\u001b[0m \u001b[1;33m*\u001b[0m\u001b[0margs\u001b[0m\u001b[1;33m,\u001b[0m \u001b[0mdata\u001b[0m\u001b[1;33m=\u001b[0m\u001b[1;32mNone\u001b[0m\u001b[1;33m,\u001b[0m \u001b[1;33m**\u001b[0m\u001b[0mkwargs\u001b[0m\u001b[1;33m)\u001b[0m\u001b[1;33m:\u001b[0m\u001b[1;33m\u001b[0m\u001b[1;33m\u001b[0m\u001b[0m\n\u001b[0;32m   1600\u001b[0m         \u001b[1;32mif\u001b[0m \u001b[0mdata\u001b[0m \u001b[1;32mis\u001b[0m \u001b[1;32mNone\u001b[0m\u001b[1;33m:\u001b[0m\u001b[1;33m\u001b[0m\u001b[1;33m\u001b[0m\u001b[0m\n\u001b[1;32m-> 1601\u001b[1;33m             \u001b[1;32mreturn\u001b[0m \u001b[0mfunc\u001b[0m\u001b[1;33m(\u001b[0m\u001b[0max\u001b[0m\u001b[1;33m,\u001b[0m \u001b[1;33m*\u001b[0m\u001b[0mmap\u001b[0m\u001b[1;33m(\u001b[0m\u001b[0msanitize_sequence\u001b[0m\u001b[1;33m,\u001b[0m \u001b[0margs\u001b[0m\u001b[1;33m)\u001b[0m\u001b[1;33m,\u001b[0m \u001b[1;33m**\u001b[0m\u001b[0mkwargs\u001b[0m\u001b[1;33m)\u001b[0m\u001b[1;33m\u001b[0m\u001b[1;33m\u001b[0m\u001b[0m\n\u001b[0m\u001b[0;32m   1602\u001b[0m \u001b[1;33m\u001b[0m\u001b[0m\n\u001b[0;32m   1603\u001b[0m         \u001b[0mbound\u001b[0m \u001b[1;33m=\u001b[0m \u001b[0mnew_sig\u001b[0m\u001b[1;33m.\u001b[0m\u001b[0mbind\u001b[0m\u001b[1;33m(\u001b[0m\u001b[0max\u001b[0m\u001b[1;33m,\u001b[0m \u001b[1;33m*\u001b[0m\u001b[0margs\u001b[0m\u001b[1;33m,\u001b[0m \u001b[1;33m**\u001b[0m\u001b[0mkwargs\u001b[0m\u001b[1;33m)\u001b[0m\u001b[1;33m\u001b[0m\u001b[1;33m\u001b[0m\u001b[0m\n",
      "\u001b[1;32m~\\Anaconda3\\lib\\site-packages\\matplotlib\\axes\\_axes.py\u001b[0m in \u001b[0;36mscatter\u001b[1;34m(self, x, y, s, c, marker, cmap, norm, vmin, vmax, alpha, linewidths, verts, edgecolors, plotnonfinite, **kwargs)\u001b[0m\n\u001b[0;32m   4442\u001b[0m         \u001b[0my\u001b[0m \u001b[1;33m=\u001b[0m \u001b[0mnp\u001b[0m\u001b[1;33m.\u001b[0m\u001b[0mma\u001b[0m\u001b[1;33m.\u001b[0m\u001b[0mravel\u001b[0m\u001b[1;33m(\u001b[0m\u001b[0my\u001b[0m\u001b[1;33m)\u001b[0m\u001b[1;33m\u001b[0m\u001b[1;33m\u001b[0m\u001b[0m\n\u001b[0;32m   4443\u001b[0m         \u001b[1;32mif\u001b[0m \u001b[0mx\u001b[0m\u001b[1;33m.\u001b[0m\u001b[0msize\u001b[0m \u001b[1;33m!=\u001b[0m \u001b[0my\u001b[0m\u001b[1;33m.\u001b[0m\u001b[0msize\u001b[0m\u001b[1;33m:\u001b[0m\u001b[1;33m\u001b[0m\u001b[1;33m\u001b[0m\u001b[0m\n\u001b[1;32m-> 4444\u001b[1;33m             \u001b[1;32mraise\u001b[0m \u001b[0mValueError\u001b[0m\u001b[1;33m(\u001b[0m\u001b[1;34m\"x and y must be the same size\"\u001b[0m\u001b[1;33m)\u001b[0m\u001b[1;33m\u001b[0m\u001b[1;33m\u001b[0m\u001b[0m\n\u001b[0m\u001b[0;32m   4445\u001b[0m \u001b[1;33m\u001b[0m\u001b[0m\n\u001b[0;32m   4446\u001b[0m         \u001b[1;32mif\u001b[0m \u001b[0ms\u001b[0m \u001b[1;32mis\u001b[0m \u001b[1;32mNone\u001b[0m\u001b[1;33m:\u001b[0m\u001b[1;33m\u001b[0m\u001b[1;33m\u001b[0m\u001b[0m\n",
      "\u001b[1;31mValueError\u001b[0m: x and y must be the same size"
     ]
    },
    {
     "data": {
      "image/png": "[encoded data removed]",
      "text/plain": [
       "<Figure size 432x288 with 1 Axes>"
      ]
     },
     "metadata": {
      "needs_background": "light"
     },
     "output_type": "display_data"
    }
   ],
   "source": [
    "y_pred = m * X_test\n",
    "plt.scatter(X_test, y_test)\n",
    "plt.show()"
   ]
  },
  {
   "cell_type": "code",
   "execution_count": null,
   "metadata": {},
   "outputs": [],
   "source": []
  }
 ],
 "metadata": {
  "kernelspec": {
   "display_name": "Python 3",
   "language": "python",
   "name": "python3"
  },
  "language_info": {
   "codemirror_mode": {
    "name": "ipython",
    "version": 3
   },
   "file_extension": ".py",
   "mimetype": "text/x-python",
   "name": "python",
   "nbconvert_exporter": "python",
   "pygments_lexer": "ipython3",
   "version": "3.7.4"
  }
 },
 "nbformat": 4,
 "nbformat_minor": 2
}
