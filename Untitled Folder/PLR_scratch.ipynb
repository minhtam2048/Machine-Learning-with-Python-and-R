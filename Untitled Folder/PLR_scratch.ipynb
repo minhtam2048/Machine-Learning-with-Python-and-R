{
 "cells": [
  {
   "cell_type": "code",
   "execution_count": 1,
   "metadata": {},
   "outputs": [],
   "source": [
    "import numpy as np\n",
    "import matplotlib.pyplot as plt\n",
    "import scipy.optimize as opt\n",
    "import pandas as pd"
   ]
  },
  {
   "cell_type": "code",
   "execution_count": 2,
   "metadata": {},
   "outputs": [],
   "source": [
    "dataset = pd.read_csv('Position_Salaries.csv')\n",
    "X = dataset.iloc[:, 1:2].values\n",
    "y = dataset.iloc[:, 2].values"
   ]
  },
  {
   "cell_type": "code",
   "execution_count": 3,
   "metadata": {},
   "outputs": [
    {
     "data": {
      "image/png": "[encoded data removed]",
      "text/plain": [
       "<Figure size 432x288 with 1 Axes>"
      ]
     },
     "metadata": {
      "needs_background": "light"
     },
     "output_type": "display_data"
    }
   ],
   "source": [
    "plt.scatter(X,y)\n",
    "plt.title('Data')\n",
    "plt.xlabel('Position')\n",
    "plt.ylabel('Salary')\n",
    "plt.show()"
   ]
  },
  {
   "cell_type": "code",
   "execution_count": 4,
   "metadata": {},
   "outputs": [],
   "source": [
    "def insert_ones(x):\n",
    "    X = np.ones(shape=(x.shape[0], x.shape[1] + 1))\n",
    "    X[:, 1:] = x\n",
    "    return X"
   ]
  },
  {
   "cell_type": "code",
   "execution_count": 5,
   "metadata": {},
   "outputs": [],
   "source": [
    "def poly_features(X, degree):\n",
    "    X_poly = np.zeros(shape=(len(X), degree)) # zeros matrix\n",
    "    for i in range(0, degree):\n",
    "        X_poly[:, i] = X.squeeze() ** (i + 1);\n",
    "    return X_poly"
   ]
  },
  {
   "cell_type": "code",
   "execution_count": 6,
   "metadata": {},
   "outputs": [],
   "source": [
    "X_poly = poly_features(X, 8)"
   ]
  },
  {
   "cell_type": "code",
   "execution_count": 7,
   "metadata": {},
   "outputs": [],
   "source": [
    "train_means = X_poly.mean(axis = 0)\n",
    "train_stdevs = np.std(X_poly, axis = 0, ddof = 1)\n",
    "\n",
    "X_poly = (X_poly - train_means) / train_stdevs\n",
    "X_poly = insert_ones(X_poly)"
   ]
  },
  {
   "cell_type": "code",
   "execution_count": 8,
   "metadata": {},
   "outputs": [],
   "source": [
    "def gradient_cost(theta, X, y, lamb = 0):\n",
    "    predictions = X @ theta\n",
    "    gradient = X.T @ (predictions - y)\n",
    "    regularization = lamb * theta\n",
    "    regularization[0] = 0\n",
    "    return (gradient + regularization) / len(y)"
   ]
  },
  {
   "cell_type": "code",
   "execution_count": 9,
   "metadata": {},
   "outputs": [],
   "source": [
    "def regularized_cost(theta, X, y, lamb = 0):\n",
    "    predictions = X @ theta\n",
    "    squared_errors = np.sum(np.square(predictions - y))\n",
    "    regularization = np.sum(lamb * np.square(theta[1:]))\n",
    "    return (squared_errors + regularization) / (2 * len(y))"
   ]
  },
  {
   "cell_type": "code",
   "execution_count": 10,
   "metadata": {},
   "outputs": [],
   "source": [
    "def plot_fit(min_x, max_x, means, stdevs, theta, degree):\n",
    "    X = np.linspace(min_x - 5, max_x + 5, 1000)\n",
    "    X_poly = poly_features(X, degree)\n",
    "    X_poly = (X_poly - means) / stdevs\n",
    "    X_poly = insert_ones(X_poly)\n",
    "    plt.plot(X, X_poly @ theta, linewidth = 2)\n",
    "    plt.show()"
   ]
  },
  {
   "cell_type": "code",
   "execution_count": 11,
   "metadata": {},
   "outputs": [],
   "source": [
    "def train_linear_regression(X, y, lamb=0):\n",
    "    theta = np.zeros(X.shape[1])\n",
    "    return opt.fmin_cg(regularized_cost, theta, gradient_cost, (X, y, lamb), disp = False)"
   ]
  },
  {
   "cell_type": "code",
   "execution_count": 12,
   "metadata": {},
   "outputs": [
    {
     "data": {
      "image/png": "[encoded data removed]",
      "text/plain": [
       "<Figure size 432x288 with 1 Axes>"
      ]
     },
     "metadata": {
      "needs_background": "light"
     },
     "output_type": "display_data"
    }
   ],
   "source": [
    "theta = train_linear_regression(X_poly, y, 1)\n",
    "plt.scatter(X, y)\n",
    "plt.xlabel(\"position\", fontsize=14)\n",
    "plt.ylabel(\"salary\", fontsize=14)\n",
    "plt.title(\"Regularized Polynomial Fit\", fontsize=16)\n",
    "plot_fit(min(X), max(X), train_means, train_stdevs, theta, 8)\n"
   ]
  }
 ],
 "metadata": {
  "kernelspec": {
   "display_name": "Python 3",
   "language": "python",
   "name": "python3"
  },
  "language_info": {
   "codemirror_mode": {
    "name": "ipython",
    "version": 3
   },
   "file_extension": ".py",
   "mimetype": "text/x-python",
   "name": "python",
   "nbconvert_exporter": "python",
   "pygments_lexer": "ipython3",
   "version": "3.7.4"
  }
 },
 "nbformat": 4,
 "nbformat_minor": 2
}
